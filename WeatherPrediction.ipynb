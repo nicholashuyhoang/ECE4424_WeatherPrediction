{
  "nbformat": 4,
  "nbformat_minor": 0,
  "metadata": {
    "colab": {
      "provenance": []
    },
    "kernelspec": {
      "name": "python3",
      "display_name": "Python 3"
    },
    "language_info": {
      "name": "python"
    }
  },
  "cells": [
    {
      "cell_type": "code",
      "execution_count": null,
      "metadata": {
        "id": "DAti2NvpvO50"
      },
      "outputs": [],
      "source": [
        "#\n",
        "\n",
        "import numpy as np\n",
        "weatherHistory = np.loadtxt(\"weatherHistory.csv\", delimiter=\",\", dtype=str)"
      ]
    },
    {
      "cell_type": "code",
      "source": [],
      "metadata": {
        "id": "-nsdlJGMm0xR"
      },
      "execution_count": null,
      "outputs": []
    }
  ]
}